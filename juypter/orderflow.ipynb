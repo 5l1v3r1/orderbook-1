{
 "cells": [
  {
   "cell_type": "markdown",
   "metadata": {},
   "source": [
    "## Order-flow Analysis in Limit Order Books\n",
    "\n",
    "We investigate whether features derived from buying/selling pressure as well as trade-execution in Limit Order Books have the potential to be exploited as trading-signals. We use datasets from [LOBSTER]([https://lobsterdata.com/) and train a simple multi-variate linear model which is then used to back-test our strategy.\n",
    "\n",
    "This is based on the ideas [here]( http://eprints.maths.ox.ac.uk/1895/1/Darryl%20Shen%20%28for%20archive%29.pdf). \n",
    "\n",
    "My feel is that it probably won't work well, but this is just something to get a feel of things in orderbook flow stuff. Another problem is that we have very limited data as well.\n",
    "\n",
    "See related stuff here, \n",
    "\n",
    "1. http://epchan.blogspot.com/2018/02/fx-order-flow-as-predictor.html\n",
    "2. http://www.pnas.org/content/pnas/102/6/2254.full.pdf\n",
    "3. https://arxiv.org/pdf/1012.0349.pdf\n",
    "4. https://pdfs.semanticscholar.org/7b7b/25570b8bedfc4d7d3573c8d7f907119aa2a6.pdf\n"
   ]
  },
  {
   "cell_type": "code",
   "execution_count": 19,
   "metadata": {},
   "outputs": [],
   "source": [
    "import datetime\n",
    "from   itertools import izip\n",
    "import time\n",
    "import warnings\n",
    "\n",
    "import matplotlib.pyplot as plt\n",
    "from   numba import jit\n",
    "import numpy as np\n",
    "from   numpy.linalg import pinv\n",
    "import pandas as pd\n",
    "import pytz\n",
    "from   scipy.optimize import basinhopping\n",
    "from   scipy.stats import zscore\n",
    "import seaborn as sns\n",
    "import statsmodels.api as sm\n",
    "from   statsmodels.graphics.tsaplots import plot_acf\n",
    "from   statsmodels.tsa.stattools import acf\n",
    "\n",
    "warnings.filterwarnings('ignore')\n",
    "%matplotlib inline\n",
    "\n",
    "from itertools import izip, tee\n",
    "\n",
    "def pairwise(iterable):\n",
    "    \"s -> (s0,s1), (s1,s2), (s2, s3), ...\"\n",
    "    a, b = tee(iterable)\n",
    "    next(b, None)\n",
    "    return izip(a, b)"
   ]
  },
  {
   "cell_type": "code",
   "execution_count": 20,
   "metadata": {},
   "outputs": [],
   "source": [
    "msg_filename       = './AAPL_2012-06-21_message_50.csv'\n",
    "orderbook_filename = './AAPL_2012-06-21_orderbook_50.csv'"
   ]
  },
  {
   "cell_type": "markdown",
   "metadata": {},
   "source": [
    "First we parse both the message and the orderbook CSV files from LOBSTER into a pandas dataframe so that we can easily manipulate it."
   ]
  },
  {
   "cell_type": "code",
   "execution_count": 21,
   "metadata": {},
   "outputs": [],
   "source": [
    "rows = []\n",
    "with open(orderbook_filename) as f1:\n",
    "    with open(msg_filename) as f2:\n",
    "        for line1, line2 in izip(f1, f2):\n",
    "            askp, askv, bidp, bidv = line1.strip().split(',',4)\n",
    "            ts, evt, _, vol, price, side = line2.strip().split(',')\n",
    "\n",
    "            ts = float(ts)\n",
    "            bidp, bidv, askp, askv, vol, price, side = \\\n",
    "                map(int, [bidp, bidv, askp, askv, vol, price, side]) \n",
    "\n",
    "            if not evt in ['4', '5']:\n",
    "                price = vol = side = 0\n",
    "                \n",
    "            row = (pd.Timestamp.fromtimestamp(ts), bidp, bidv, askp, askv, price, vol, side)\n",
    "            rows.append(row)\n",
    "            \n",
    "columns =  ['ts', 'bid', 'bid_vol', 'ask', 'ask_vol', 'trade', 'trade_vol', 'trade_side']\n",
    "\n",
    "split = 52000\n",
    "\n",
    "rows_train, rows_test = rows[:split], rows[split:]\n",
    "#rows_test, rows_train = rows[-split:], rows[:-split] #swap\n",
    "\n",
    "def make_df(rows):\n",
    "    df = pd.DataFrame(rows, columns=columns)\n",
    "    df.set_index('ts', inplace=True)\n",
    "    df.sort_index(inplace=True)\n",
    "    df['spread'] = df['ask'] - df['bid']\n",
    "\n",
    "    df['bid_vol_delta'] = df['bid_vol'].diff()\n",
    "    df['ask_vol_delta'] = df['ask_vol'].diff()\n",
    "    df['bid_delta'] = df['bid'].diff() / df['spread']\n",
    "    df['ask_delta'] = df['ask'].diff() / df['spread']\n",
    "    df['mid'] = ( df['bid'] + df['ask'] ) / 2.\n",
    "    df['mid_delta'] = df['mid'].diff()\n",
    "    \n",
    "    return df\n",
    "\n",
    "df      = make_df(rows_train)\n",
    "df_test = make_df(rows_test)"
   ]
  },
  {
   "cell_type": "code",
   "execution_count": 34,
   "metadata": {
    "scrolled": false
   },
   "outputs": [
    {
     "data": {
      "text/html": [
       "<div>\n",
       "<style scoped>\n",
       "    .dataframe tbody tr th:only-of-type {\n",
       "        vertical-align: middle;\n",
       "    }\n",
       "\n",
       "    .dataframe tbody tr th {\n",
       "        vertical-align: top;\n",
       "    }\n",
       "\n",
       "    .dataframe thead th {\n",
       "        text-align: right;\n",
       "    }\n",
       "</style>\n",
       "<table border=\"1\" class=\"dataframe\">\n",
       "  <thead>\n",
       "    <tr style=\"text-align: right;\">\n",
       "      <th></th>\n",
       "      <th>bid</th>\n",
       "      <th>bid_vol</th>\n",
       "      <th>ask</th>\n",
       "      <th>ask_vol</th>\n",
       "      <th>trade</th>\n",
       "      <th>trade_vol</th>\n",
       "      <th>trade_side</th>\n",
       "      <th>spread</th>\n",
       "      <th>bid_vol_delta</th>\n",
       "      <th>ask_vol_delta</th>\n",
       "      <th>bid_delta</th>\n",
       "      <th>ask_delta</th>\n",
       "      <th>mid</th>\n",
       "      <th>mid_delta</th>\n",
       "      <th>order_imba</th>\n",
       "    </tr>\n",
       "    <tr>\n",
       "      <th>ts</th>\n",
       "      <th></th>\n",
       "      <th></th>\n",
       "      <th></th>\n",
       "      <th></th>\n",
       "      <th></th>\n",
       "      <th></th>\n",
       "      <th></th>\n",
       "      <th></th>\n",
       "      <th></th>\n",
       "      <th></th>\n",
       "      <th></th>\n",
       "      <th></th>\n",
       "      <th></th>\n",
       "      <th></th>\n",
       "      <th></th>\n",
       "    </tr>\n",
       "  </thead>\n",
       "  <tbody>\n",
       "    <tr>\n",
       "      <th>1970-01-01 17:00:00.004241</th>\n",
       "      <td>5853300</td>\n",
       "      <td>18</td>\n",
       "      <td>5859400</td>\n",
       "      <td>200</td>\n",
       "      <td>0</td>\n",
       "      <td>0</td>\n",
       "      <td>0</td>\n",
       "      <td>6100</td>\n",
       "      <td>NaN</td>\n",
       "      <td>NaN</td>\n",
       "      <td>NaN</td>\n",
       "      <td>NaN</td>\n",
       "      <td>5856350.0</td>\n",
       "      <td>NaN</td>\n",
       "      <td>NaN</td>\n",
       "    </tr>\n",
       "    <tr>\n",
       "      <th>1970-01-01 17:00:00.004261</th>\n",
       "      <td>5853300</td>\n",
       "      <td>18</td>\n",
       "      <td>5859400</td>\n",
       "      <td>200</td>\n",
       "      <td>0</td>\n",
       "      <td>0</td>\n",
       "      <td>0</td>\n",
       "      <td>6100</td>\n",
       "      <td>0.0</td>\n",
       "      <td>0.0</td>\n",
       "      <td>0.0</td>\n",
       "      <td>0.000000</td>\n",
       "      <td>5856350.0</td>\n",
       "      <td>0.0</td>\n",
       "      <td>NaN</td>\n",
       "    </tr>\n",
       "    <tr>\n",
       "      <th>1970-01-01 17:00:00.004447</th>\n",
       "      <td>5853300</td>\n",
       "      <td>18</td>\n",
       "      <td>5859400</td>\n",
       "      <td>200</td>\n",
       "      <td>0</td>\n",
       "      <td>0</td>\n",
       "      <td>0</td>\n",
       "      <td>6100</td>\n",
       "      <td>0.0</td>\n",
       "      <td>0.0</td>\n",
       "      <td>0.0</td>\n",
       "      <td>0.000000</td>\n",
       "      <td>5856350.0</td>\n",
       "      <td>0.0</td>\n",
       "      <td>0.000000</td>\n",
       "    </tr>\n",
       "    <tr>\n",
       "      <th>1970-01-01 17:00:00.025552</th>\n",
       "      <td>5853300</td>\n",
       "      <td>18</td>\n",
       "      <td>5859100</td>\n",
       "      <td>18</td>\n",
       "      <td>0</td>\n",
       "      <td>0</td>\n",
       "      <td>0</td>\n",
       "      <td>5800</td>\n",
       "      <td>0.0</td>\n",
       "      <td>-182.0</td>\n",
       "      <td>0.0</td>\n",
       "      <td>-0.051724</td>\n",
       "      <td>5856200.0</td>\n",
       "      <td>-150.0</td>\n",
       "      <td>-0.000086</td>\n",
       "    </tr>\n",
       "    <tr>\n",
       "      <th>1970-01-01 17:00:00.025580</th>\n",
       "      <td>5853300</td>\n",
       "      <td>18</td>\n",
       "      <td>5859100</td>\n",
       "      <td>18</td>\n",
       "      <td>0</td>\n",
       "      <td>0</td>\n",
       "      <td>0</td>\n",
       "      <td>5800</td>\n",
       "      <td>0.0</td>\n",
       "      <td>0.0</td>\n",
       "      <td>0.0</td>\n",
       "      <td>0.000000</td>\n",
       "      <td>5856200.0</td>\n",
       "      <td>0.0</td>\n",
       "      <td>0.000000</td>\n",
       "    </tr>\n",
       "  </tbody>\n",
       "</table>\n",
       "</div>"
      ],
      "text/plain": [
       "                                bid  bid_vol      ask  ask_vol  trade  \\\n",
       "ts                                                                      \n",
       "1970-01-01 17:00:00.004241  5853300       18  5859400      200      0   \n",
       "1970-01-01 17:00:00.004261  5853300       18  5859400      200      0   \n",
       "1970-01-01 17:00:00.004447  5853300       18  5859400      200      0   \n",
       "1970-01-01 17:00:00.025552  5853300       18  5859100       18      0   \n",
       "1970-01-01 17:00:00.025580  5853300       18  5859100       18      0   \n",
       "\n",
       "                            trade_vol  trade_side  spread  bid_vol_delta  \\\n",
       "ts                                                                         \n",
       "1970-01-01 17:00:00.004241          0           0    6100            NaN   \n",
       "1970-01-01 17:00:00.004261          0           0    6100            0.0   \n",
       "1970-01-01 17:00:00.004447          0           0    6100            0.0   \n",
       "1970-01-01 17:00:00.025552          0           0    5800            0.0   \n",
       "1970-01-01 17:00:00.025580          0           0    5800            0.0   \n",
       "\n",
       "                            ask_vol_delta  bid_delta  ask_delta        mid  \\\n",
       "ts                                                                           \n",
       "1970-01-01 17:00:00.004241            NaN        NaN        NaN  5856350.0   \n",
       "1970-01-01 17:00:00.004261            0.0        0.0   0.000000  5856350.0   \n",
       "1970-01-01 17:00:00.004447            0.0        0.0   0.000000  5856350.0   \n",
       "1970-01-01 17:00:00.025552         -182.0        0.0  -0.051724  5856200.0   \n",
       "1970-01-01 17:00:00.025580            0.0        0.0   0.000000  5856200.0   \n",
       "\n",
       "                            mid_delta  order_imba  \n",
       "ts                                                 \n",
       "1970-01-01 17:00:00.004241        NaN         NaN  \n",
       "1970-01-01 17:00:00.004261        0.0         NaN  \n",
       "1970-01-01 17:00:00.004447        0.0    0.000000  \n",
       "1970-01-01 17:00:00.025552     -150.0   -0.000086  \n",
       "1970-01-01 17:00:00.025580        0.0    0.000000  "
      ]
     },
     "execution_count": 34,
     "metadata": {},
     "output_type": "execute_result"
    }
   ],
   "source": [
    "df.head()"
   ]
  },
  {
   "cell_type": "markdown",
   "metadata": {},
   "source": [
    "Next we show a quick sampling of the data in both tabular as well as graphical form."
   ]
  },
  {
   "cell_type": "code",
   "execution_count": 35,
   "metadata": {
    "scrolled": false
   },
   "outputs": [
    {
     "data": {
      "image/png": "[encoded data removed]",
      "text/plain": [
       "<matplotlib.figure.Figure at 0x1c23d26d50>"
      ]
     },
     "metadata": {},
     "output_type": "display_data"
    }
   ],
   "source": [
    "df_sample = df[:2000]/10000.\n",
    "\n",
    "df_sample.plot(y=['bid', 'ask'], figsize=(14,10), \n",
    "               title='Best bid and ask prices. Green dots are actual trades.', use_index=True)\n",
    "\n",
    "trades = df_sample[df_sample['trade'] > 0] \n",
    "plt.scatter(trades.index, trades.trade, c='#2ECC71', label='adfa')\n",
    "\n",
    "plt.show()"
   ]
  },
  {
   "cell_type": "markdown",
   "metadata": {},
   "source": [
    "Next we calculate buy/sell pressure indicator based on, \n",
    "1. volume changes.\n",
    "2. trade-execution volumes."
   ]
  },
  {
   "cell_type": "code",
   "execution_count": 36,
   "metadata": {},
   "outputs": [],
   "source": [
    "def calc_order_imba(df):\n",
    "\n",
    "    it = iter(df.iterrows())\n",
    "    it.next() # skip first row \n",
    "\n",
    "    order_imba = []\n",
    "    weight = 1. # we weight execution volume more since from empirical evidence\n",
    "                # close to 90% of orders in LOBs are cancelled.\n",
    "\n",
    "    # feature engineering...\n",
    "    for (_, prev_row), (_, cur_row) in pairwise(it):\n",
    "\n",
    "        delvol_bid = 0\n",
    "        delvol_ask = 0\n",
    "\n",
    "        if cur_row.trade_vol > 0:\n",
    "            if cur_row.trade_side == 1: \n",
    "                # some seller crossed the spread to take the best bid, must give a -ve indicator\n",
    "                delvol_ask = cur_row.trade_vol * weight\n",
    "            else:\n",
    "                # some buy crossed the spread to take the best ask, must give a +ve indicator\n",
    "                delvol_bid = cur_row.trade_vol * weight\n",
    "\n",
    "        else:\n",
    "            if cur_row.bid > prev_row.bid:\n",
    "                delvol_bid = cur_row.bid_vol\n",
    "            elif cur_row.bid == prev_row.bid:\n",
    "                delvol_bid = cur_row.bid_vol_delta\n",
    "            elif cur_row.bid < prev_row.bid: \n",
    "                # the best bid decreased, due to withdrawal of bid.\n",
    "                delvol_bid = -prev_row.bid_vol\n",
    "\n",
    "            if cur_row.ask < prev_row.ask:\n",
    "                delvol_ask = cur_row.ask_vol\n",
    "            elif cur_row.ask == prev_row.ask:\n",
    "                delvol_ask = cur_row.ask_vol_delta\n",
    "            elif cur_row.ask > prev_row.ask:\n",
    "                delvol_ask = -prev_row.ask_vol\n",
    "\n",
    "        imba = ( delvol_bid - delvol_ask ) / ( cur_row.bid_vol + cur_row.ask_vol )        \n",
    "        order_imba.append( imba / cur_row.spread)\n",
    "\n",
    "    df['order_imba'] = [np.nan]*2 + order_imba\n",
    "\n",
    "calc_order_imba(df)"
   ]
  },
  {
   "cell_type": "markdown",
   "metadata": {},
   "source": [
    "We show next what the first few rows look like with the indicator populated."
   ]
  },
  {
   "cell_type": "code",
   "execution_count": 38,
   "metadata": {
    "scrolled": false
   },
   "outputs": [
    {
     "data": {
      "text/html": [
       "<div>\n",
       "<style scoped>\n",
       "    .dataframe tbody tr th:only-of-type {\n",
       "        vertical-align: middle;\n",
       "    }\n",
       "\n",
       "    .dataframe tbody tr th {\n",
       "        vertical-align: top;\n",
       "    }\n",
       "\n",
       "    .dataframe thead th {\n",
       "        text-align: right;\n",
       "    }\n",
       "</style>\n",
       "<table border=\"1\" class=\"dataframe\">\n",
       "  <thead>\n",
       "    <tr style=\"text-align: right;\">\n",
       "      <th></th>\n",
       "      <th>bid</th>\n",
       "      <th>bid_vol</th>\n",
       "      <th>ask</th>\n",
       "      <th>ask_vol</th>\n",
       "      <th>trade</th>\n",
       "      <th>trade_vol</th>\n",
       "      <th>trade_side</th>\n",
       "      <th>spread</th>\n",
       "      <th>bid_vol_delta</th>\n",
       "      <th>ask_vol_delta</th>\n",
       "      <th>bid_delta</th>\n",
       "      <th>ask_delta</th>\n",
       "      <th>mid</th>\n",
       "      <th>mid_delta</th>\n",
       "      <th>order_imba</th>\n",
       "    </tr>\n",
       "    <tr>\n",
       "      <th>ts</th>\n",
       "      <th></th>\n",
       "      <th></th>\n",
       "      <th></th>\n",
       "      <th></th>\n",
       "      <th></th>\n",
       "      <th></th>\n",
       "      <th></th>\n",
       "      <th></th>\n",
       "      <th></th>\n",
       "      <th></th>\n",
       "      <th></th>\n",
       "      <th></th>\n",
       "      <th></th>\n",
       "      <th></th>\n",
       "      <th></th>\n",
       "    </tr>\n",
       "  </thead>\n",
       "  <tbody>\n",
       "    <tr>\n",
       "      <th>1970-01-01 17:00:00.004241</th>\n",
       "      <td>5853300</td>\n",
       "      <td>18</td>\n",
       "      <td>5859400</td>\n",
       "      <td>200</td>\n",
       "      <td>0</td>\n",
       "      <td>0</td>\n",
       "      <td>0</td>\n",
       "      <td>6100</td>\n",
       "      <td>NaN</td>\n",
       "      <td>NaN</td>\n",
       "      <td>NaN</td>\n",
       "      <td>NaN</td>\n",
       "      <td>5856350.0</td>\n",
       "      <td>NaN</td>\n",
       "      <td>NaN</td>\n",
       "    </tr>\n",
       "    <tr>\n",
       "      <th>1970-01-01 17:00:00.004261</th>\n",
       "      <td>5853300</td>\n",
       "      <td>18</td>\n",
       "      <td>5859400</td>\n",
       "      <td>200</td>\n",
       "      <td>0</td>\n",
       "      <td>0</td>\n",
       "      <td>0</td>\n",
       "      <td>6100</td>\n",
       "      <td>0.0</td>\n",
       "      <td>0.0</td>\n",
       "      <td>0.0</td>\n",
       "      <td>0.000000</td>\n",
       "      <td>5856350.0</td>\n",
       "      <td>0.0</td>\n",
       "      <td>NaN</td>\n",
       "    </tr>\n",
       "    <tr>\n",
       "      <th>1970-01-01 17:00:00.004447</th>\n",
       "      <td>5853300</td>\n",
       "      <td>18</td>\n",
       "      <td>5859400</td>\n",
       "      <td>200</td>\n",
       "      <td>0</td>\n",
       "      <td>0</td>\n",
       "      <td>0</td>\n",
       "      <td>6100</td>\n",
       "      <td>0.0</td>\n",
       "      <td>0.0</td>\n",
       "      <td>0.0</td>\n",
       "      <td>0.000000</td>\n",
       "      <td>5856350.0</td>\n",
       "      <td>0.0</td>\n",
       "      <td>0.000000</td>\n",
       "    </tr>\n",
       "    <tr>\n",
       "      <th>1970-01-01 17:00:00.025552</th>\n",
       "      <td>5853300</td>\n",
       "      <td>18</td>\n",
       "      <td>5859100</td>\n",
       "      <td>18</td>\n",
       "      <td>0</td>\n",
       "      <td>0</td>\n",
       "      <td>0</td>\n",
       "      <td>5800</td>\n",
       "      <td>0.0</td>\n",
       "      <td>-182.0</td>\n",
       "      <td>0.0</td>\n",
       "      <td>-0.051724</td>\n",
       "      <td>5856200.0</td>\n",
       "      <td>-150.0</td>\n",
       "      <td>-0.000086</td>\n",
       "    </tr>\n",
       "    <tr>\n",
       "      <th>1970-01-01 17:00:00.025580</th>\n",
       "      <td>5853300</td>\n",
       "      <td>18</td>\n",
       "      <td>5859100</td>\n",
       "      <td>18</td>\n",
       "      <td>0</td>\n",
       "      <td>0</td>\n",
       "      <td>0</td>\n",
       "      <td>5800</td>\n",
       "      <td>0.0</td>\n",
       "      <td>0.0</td>\n",
       "      <td>0.0</td>\n",
       "      <td>0.000000</td>\n",
       "      <td>5856200.0</td>\n",
       "      <td>0.0</td>\n",
       "      <td>0.000000</td>\n",
       "    </tr>\n",
       "  </tbody>\n",
       "</table>\n",
       "</div>"
      ],
      "text/plain": [
       "                                bid  bid_vol      ask  ask_vol  trade  \\\n",
       "ts                                                                      \n",
       "1970-01-01 17:00:00.004241  5853300       18  5859400      200      0   \n",
       "1970-01-01 17:00:00.004261  5853300       18  5859400      200      0   \n",
       "1970-01-01 17:00:00.004447  5853300       18  5859400      200      0   \n",
       "1970-01-01 17:00:00.025552  5853300       18  5859100       18      0   \n",
       "1970-01-01 17:00:00.025580  5853300       18  5859100       18      0   \n",
       "\n",
       "                            trade_vol  trade_side  spread  bid_vol_delta  \\\n",
       "ts                                                                         \n",
       "1970-01-01 17:00:00.004241          0           0    6100            NaN   \n",
       "1970-01-01 17:00:00.004261          0           0    6100            0.0   \n",
       "1970-01-01 17:00:00.004447          0           0    6100            0.0   \n",
       "1970-01-01 17:00:00.025552          0           0    5800            0.0   \n",
       "1970-01-01 17:00:00.025580          0           0    5800            0.0   \n",
       "\n",
       "                            ask_vol_delta  bid_delta  ask_delta        mid  \\\n",
       "ts                                                                           \n",
       "1970-01-01 17:00:00.004241            NaN        NaN        NaN  5856350.0   \n",
       "1970-01-01 17:00:00.004261            0.0        0.0   0.000000  5856350.0   \n",
       "1970-01-01 17:00:00.004447            0.0        0.0   0.000000  5856350.0   \n",
       "1970-01-01 17:00:00.025552         -182.0        0.0  -0.051724  5856200.0   \n",
       "1970-01-01 17:00:00.025580            0.0        0.0   0.000000  5856200.0   \n",
       "\n",
       "                            mid_delta  order_imba  \n",
       "ts                                                 \n",
       "1970-01-01 17:00:00.004241        NaN         NaN  \n",
       "1970-01-01 17:00:00.004261        0.0         NaN  \n",
       "1970-01-01 17:00:00.004447        0.0    0.000000  \n",
       "1970-01-01 17:00:00.025552     -150.0   -0.000086  \n",
       "1970-01-01 17:00:00.025580        0.0    0.000000  "
      ]
     },
     "execution_count": 38,
     "metadata": {},
     "output_type": "execute_result"
    }
   ],
   "source": [
    "df.head()"
   ]
  },
  {
   "cell_type": "markdown",
   "metadata": {},
   "source": [
    "Also next a quick EDA to see if there's some relationship between the 'mid_delta', which is the change in mid quote, against 'order_imba', which is the buy/sell pressure indicator we've computed. But first we aggregate the explanatory and response variable into 5-second buckets. We then plot the winsorized data (at top 1% on both ends) with the least square regression line."
   ]
  },
  {
   "cell_type": "code",
   "execution_count": 39,
   "metadata": {
    "scrolled": false
   },
   "outputs": [],
   "source": [
    "freq = '5s'\n",
    "\n",
    "def grp_func(sub_df):\n",
    "    m = sub_df['mid_delta'].sum()\n",
    "    o = sub_df['order_imba'].sum()\n",
    "\n",
    "    return pd.DataFrame({'order_imba':[o], 'mid_delta':[m]})\n",
    "\n",
    "per_sec_data = df.groupby(pd.Grouper(level='ts', freq=freq)).apply(grp_func)\n",
    "per_sec_data.dropna(inplace=True)"
   ]
  },
  {
   "cell_type": "code",
   "execution_count": 40,
   "metadata": {},
   "outputs": [],
   "source": [
    "def reject_outliers(x, y, m=2.):\n",
    "    idx = np.abs(x - np.mean(x)) < m * np.std(x)\n",
    "    return x[idx], y[idx]"
   ]
  },
  {
   "cell_type": "code",
   "execution_count": 41,
   "metadata": {},
   "outputs": [
    {
     "data": {
      "image/png": "[encoded data removed]",
      "text/plain": [
       "<matplotlib.figure.Figure at 0x1c23d09350>"
      ]
     },
     "metadata": {},
     "output_type": "display_data"
    }
   ],
   "source": [
    "height = 6.0\n",
    "aspect = 4./3.\n",
    "\n",
    "win_x, win_y = reject_outliers(per_sec_data.order_imba, per_sec_data.mid_delta)\n",
    "plot_df = pd.DataFrame({'order_imba':win_x, 'mid_delta':win_y})\n",
    "sns.lmplot(x='order_imba',y='mid_delta',data=plot_df,fit_reg=True, size=height, aspect=aspect) \n",
    "plt.show()"
   ]
  },
  {
   "cell_type": "markdown",
   "metadata": {},
   "source": [
    "A cursory examination also shows some significance in the lag-1 acf. This means that positive pressure indicator at time-$t$ tends to be $+$ve if the one at time-$(t-1)$ is also $+$ve. See the acf plot below."
   ]
  },
  {
   "cell_type": "code",
   "execution_count": 42,
   "metadata": {},
   "outputs": [
    {
     "data": {
      "image/png": "[encoded data removed]",
      "text/plain": [
       "<matplotlib.figure.Figure at 0x1c21bc7750>"
      ]
     },
     "metadata": {},
     "output_type": "display_data"
    }
   ],
   "source": [
    "_=plot_acf(per_sec_data.order_imba, lags = 10, alpha=0.5, title='ACF plot for order_imba')"
   ]
  },
  {
   "cell_type": "markdown",
   "metadata": {},
   "source": [
    "The same observation is present also for the mid_delta."
   ]
  },
  {
   "cell_type": "code",
   "execution_count": 43,
   "metadata": {},
   "outputs": [
    {
     "data": {
      "image/png": "[encoded data removed]",
      "text/plain": [
       "<matplotlib.figure.Figure at 0x1c23c47390>"
      ]
     },
     "metadata": {},
     "output_type": "display_data"
    }
   ],
   "source": [
    "_=plot_acf(per_sec_data.mid_delta, lags = 10, alpha=0.5, title='ACF plot for mid_delta')"
   ]
  },
  {
   "cell_type": "markdown",
   "metadata": {
    "collapsed": true
   },
   "source": [
    "We next perform further processing to test if the value of the pressure indicator has predictive power on the average mid price change in the next 3 secs. We also add additional regressors, which is the lag-1 order_imba indicator."
   ]
  },
  {
   "cell_type": "code",
   "execution_count": 44,
   "metadata": {},
   "outputs": [],
   "source": [
    "forecast_df = df.groupby(pd.Grouper(level='ts', freq=freq)).apply(grp_func)"
   ]
  },
  {
   "cell_type": "code",
   "execution_count": 45,
   "metadata": {},
   "outputs": [],
   "source": [
    "forecast_df['mid_predict_next'] = forecast_df['mid_delta'].shift(-1) \n",
    "forecast_df['order_imba_1']     = forecast_df['order_imba'].shift(1) \n",
    "forecast_df['order_imba_2']     = forecast_df['order_imba'].shift(2) \n",
    "forecast_df.dropna(inplace=True)"
   ]
  },
  {
   "cell_type": "code",
   "execution_count": 46,
   "metadata": {},
   "outputs": [
    {
     "data": {
      "text/html": [
       "<div>\n",
       "<style scoped>\n",
       "    .dataframe tbody tr th:only-of-type {\n",
       "        vertical-align: middle;\n",
       "    }\n",
       "\n",
       "    .dataframe tbody tr th {\n",
       "        vertical-align: top;\n",
       "    }\n",
       "\n",
       "    .dataframe thead th {\n",
       "        text-align: right;\n",
       "    }\n",
       "</style>\n",
       "<table border=\"1\" class=\"dataframe\">\n",
       "  <thead>\n",
       "    <tr style=\"text-align: right;\">\n",
       "      <th></th>\n",
       "      <th></th>\n",
       "      <th>mid_delta</th>\n",
       "      <th>order_imba</th>\n",
       "      <th>mid_predict_next</th>\n",
       "      <th>order_imba_1</th>\n",
       "      <th>order_imba_2</th>\n",
       "    </tr>\n",
       "    <tr>\n",
       "      <th>ts</th>\n",
       "      <th></th>\n",
       "      <th></th>\n",
       "      <th></th>\n",
       "      <th></th>\n",
       "      <th></th>\n",
       "      <th></th>\n",
       "    </tr>\n",
       "  </thead>\n",
       "  <tbody>\n",
       "    <tr>\n",
       "      <th>1970-01-01 17:00:10</th>\n",
       "      <th>0</th>\n",
       "      <td>-1900.0</td>\n",
       "      <td>-0.012015</td>\n",
       "      <td>1300.0</td>\n",
       "      <td>0.000237</td>\n",
       "      <td>0.019479</td>\n",
       "    </tr>\n",
       "    <tr>\n",
       "      <th>1970-01-01 17:00:15</th>\n",
       "      <th>0</th>\n",
       "      <td>1300.0</td>\n",
       "      <td>0.014658</td>\n",
       "      <td>650.0</td>\n",
       "      <td>-0.012015</td>\n",
       "      <td>0.000237</td>\n",
       "    </tr>\n",
       "    <tr>\n",
       "      <th>1970-01-01 17:00:20</th>\n",
       "      <th>0</th>\n",
       "      <td>650.0</td>\n",
       "      <td>0.000376</td>\n",
       "      <td>750.0</td>\n",
       "      <td>0.014658</td>\n",
       "      <td>-0.012015</td>\n",
       "    </tr>\n",
       "    <tr>\n",
       "      <th>1970-01-01 17:00:25</th>\n",
       "      <th>0</th>\n",
       "      <td>750.0</td>\n",
       "      <td>0.002799</td>\n",
       "      <td>200.0</td>\n",
       "      <td>0.000376</td>\n",
       "      <td>0.014658</td>\n",
       "    </tr>\n",
       "    <tr>\n",
       "      <th>1970-01-01 17:00:30</th>\n",
       "      <th>0</th>\n",
       "      <td>200.0</td>\n",
       "      <td>-0.000122</td>\n",
       "      <td>-500.0</td>\n",
       "      <td>0.002799</td>\n",
       "      <td>0.000376</td>\n",
       "    </tr>\n",
       "  </tbody>\n",
       "</table>\n",
       "</div>"
      ],
      "text/plain": [
       "                       mid_delta  order_imba  mid_predict_next  order_imba_1  \\\n",
       "ts                                                                             \n",
       "1970-01-01 17:00:10 0    -1900.0   -0.012015            1300.0      0.000237   \n",
       "1970-01-01 17:00:15 0     1300.0    0.014658             650.0     -0.012015   \n",
       "1970-01-01 17:00:20 0      650.0    0.000376             750.0      0.014658   \n",
       "1970-01-01 17:00:25 0      750.0    0.002799             200.0      0.000376   \n",
       "1970-01-01 17:00:30 0      200.0   -0.000122            -500.0      0.002799   \n",
       "\n",
       "                       order_imba_2  \n",
       "ts                                   \n",
       "1970-01-01 17:00:10 0      0.019479  \n",
       "1970-01-01 17:00:15 0      0.000237  \n",
       "1970-01-01 17:00:20 0     -0.012015  \n",
       "1970-01-01 17:00:25 0      0.014658  \n",
       "1970-01-01 17:00:30 0      0.000376  "
      ]
     },
     "execution_count": 46,
     "metadata": {},
     "output_type": "execute_result"
    }
   ],
   "source": [
    "forecast_df.head()"
   ]
  },
  {
   "cell_type": "markdown",
   "metadata": {},
   "source": [
    "We next try a multiple linear regression using the current and lag-1 order_imba indicator as predictor variables."
   ]
  },
  {
   "cell_type": "code",
   "execution_count": 47,
   "metadata": {},
   "outputs": [],
   "source": [
    "p_cut = 0.05\n",
    "predictors = (\n",
    "    forecast_df['order_imba'], \n",
    "    forecast_df['order_imba_1'],\n",
    ")\n",
    "                    \n",
    "X = np.column_stack(predictors)\n",
    "X = sm.add_constant(X)"
   ]
  },
  {
   "cell_type": "code",
   "execution_count": 48,
   "metadata": {},
   "outputs": [
    {
     "name": "stdout",
     "output_type": "stream",
     "text": [
      "                            OLS Regression Results                            \n",
      "==============================================================================\n",
      "Dep. Variable:       mid_predict_next   R-squared:                       0.004\n",
      "Model:                            OLS   Adj. R-squared:                 -0.001\n",
      "Method:                 Least Squares   F-statistic:                    0.8416\n",
      "Date:                Thu, 07 Jun 2018   Prob (F-statistic):              0.432\n",
      "Time:                        22:32:51   Log-Likelihood:                -3499.4\n",
      "No. Observations:                 404   AIC:                             7005.\n",
      "Df Residuals:                     401   BIC:                             7017.\n",
      "Df Model:                           2                                         \n",
      "Covariance Type:            nonrobust                                         \n",
      "==============================================================================\n",
      "                 coef    std err          t      P>|t|      [0.025      0.975]\n",
      "------------------------------------------------------------------------------\n",
      "const         -1.1340     69.817     -0.016      0.987    -138.388     136.120\n",
      "x1          1.061e+04   8971.949      1.182      0.238   -7032.302    2.82e+04\n",
      "x2         -5645.9553   8971.938     -0.629      0.530   -2.33e+04     1.2e+04\n",
      "==============================================================================\n",
      "Omnibus:                       94.399   Durbin-Watson:                   1.977\n",
      "Prob(Omnibus):                  0.000   Jarque-Bera (JB):             2622.324\n",
      "Skew:                          -0.119   Prob(JB):                         0.00\n",
      "Kurtosis:                      15.479   Cond. No.                         134.\n",
      "==============================================================================\n",
      "\n",
      "Warnings:\n",
      "[1] Standard Errors assume that the covariance matrix of the errors is correctly specified.\n"
     ]
    }
   ],
   "source": [
    "model = sm.OLS(forecast_df['mid_predict_next'], X)\n",
    "\n",
    "results = model.fit()\n",
    "print(results.summary())"
   ]
  },
  {
   "cell_type": "markdown",
   "metadata": {},
   "source": [
    "### Strategy Back-testing"
   ]
  },
  {
   "cell_type": "code",
   "execution_count": 49,
   "metadata": {},
   "outputs": [],
   "source": [
    "def grp_func(sub_df):\n",
    "    if len(sub_df) > 0:\n",
    "        a = sub_df['ask'].iloc[-1] # last price of the time window\n",
    "        b = sub_df['bid'].iloc[-1] # last price of the time window\n",
    "        m = sub_df['mid_delta'].sum()\n",
    "        o = sub_df['order_imba'].sum()\n",
    "        return pd.DataFrame({'order_imba':[o], 'ask':[a], 'bid':[b], 'mid_delta':[m]})"
   ]
  },
  {
   "cell_type": "code",
   "execution_count": 50,
   "metadata": {},
   "outputs": [],
   "source": [
    "calc_order_imba(df_test)\n",
    "test_data = df_test.groupby(pd.Grouper(level='ts', freq=freq)).apply(grp_func)"
   ]
  },
  {
   "cell_type": "code",
   "execution_count": 51,
   "metadata": {},
   "outputs": [],
   "source": [
    "test_data['order_imba_1'] = test_data['order_imba'].shift(1) \n",
    "test_data.dropna(inplace=True)"
   ]
  },
  {
   "cell_type": "code",
   "execution_count": 52,
   "metadata": {
    "scrolled": false
   },
   "outputs": [],
   "source": [
    "predictors = (\n",
    "    test_data['order_imba'], \n",
    "    test_data['order_imba_1'],\n",
    ")\n",
    "\n",
    "testX = np.column_stack(predictors)\n",
    "testX = sm.add_constant(testX)\n",
    "signal = model.predict(results.params, testX)"
   ]
  },
  {
   "cell_type": "code",
   "execution_count": 53,
   "metadata": {},
   "outputs": [],
   "source": [
    "test_data['signal'] = zscore(signal)"
   ]
  },
  {
   "cell_type": "code",
   "execution_count": 54,
   "metadata": {},
   "outputs": [
    {
     "data": {
      "text/html": [
       "<div>\n",
       "<style scoped>\n",
       "    .dataframe tbody tr th:only-of-type {\n",
       "        vertical-align: middle;\n",
       "    }\n",
       "\n",
       "    .dataframe tbody tr th {\n",
       "        vertical-align: top;\n",
       "    }\n",
       "\n",
       "    .dataframe thead th {\n",
       "        text-align: right;\n",
       "    }\n",
       "</style>\n",
       "<table border=\"1\" class=\"dataframe\">\n",
       "  <thead>\n",
       "    <tr style=\"text-align: right;\">\n",
       "      <th></th>\n",
       "      <th></th>\n",
       "      <th>ask</th>\n",
       "      <th>bid</th>\n",
       "      <th>mid_delta</th>\n",
       "      <th>order_imba</th>\n",
       "      <th>order_imba_1</th>\n",
       "      <th>signal</th>\n",
       "    </tr>\n",
       "    <tr>\n",
       "      <th>ts</th>\n",
       "      <th></th>\n",
       "      <th></th>\n",
       "      <th></th>\n",
       "      <th></th>\n",
       "      <th></th>\n",
       "      <th></th>\n",
       "      <th></th>\n",
       "    </tr>\n",
       "  </thead>\n",
       "  <tbody>\n",
       "    <tr>\n",
       "      <th>1970-01-01 17:33:55</th>\n",
       "      <th>0</th>\n",
       "      <td>5851800</td>\n",
       "      <td>5850200</td>\n",
       "      <td>-2200.0</td>\n",
       "      <td>-0.018234</td>\n",
       "      <td>0.000637</td>\n",
       "      <td>-2.395226</td>\n",
       "    </tr>\n",
       "    <tr>\n",
       "      <th>1970-01-01 17:34:00</th>\n",
       "      <th>0</th>\n",
       "      <td>5853200</td>\n",
       "      <td>5851200</td>\n",
       "      <td>1200.0</td>\n",
       "      <td>-0.007342</td>\n",
       "      <td>-0.018234</td>\n",
       "      <td>0.321510</td>\n",
       "    </tr>\n",
       "    <tr>\n",
       "      <th>1970-01-01 17:34:05</th>\n",
       "      <th>0</th>\n",
       "      <td>5853100</td>\n",
       "      <td>5851100</td>\n",
       "      <td>-100.0</td>\n",
       "      <td>0.000960</td>\n",
       "      <td>-0.007342</td>\n",
       "      <td>0.646290</td>\n",
       "    </tr>\n",
       "    <tr>\n",
       "      <th>1970-01-01 17:34:10</th>\n",
       "      <th>0</th>\n",
       "      <td>5850500</td>\n",
       "      <td>5849800</td>\n",
       "      <td>-1950.0</td>\n",
       "      <td>-0.004128</td>\n",
       "      <td>0.000960</td>\n",
       "      <td>-0.587342</td>\n",
       "    </tr>\n",
       "    <tr>\n",
       "      <th>1970-01-01 17:34:15</th>\n",
       "      <th>0</th>\n",
       "      <td>5848600</td>\n",
       "      <td>5846700</td>\n",
       "      <td>-2500.0</td>\n",
       "      <td>-0.021173</td>\n",
       "      <td>-0.004128</td>\n",
       "      <td>-2.447385</td>\n",
       "    </tr>\n",
       "    <tr>\n",
       "      <th>1970-01-01 17:34:20</th>\n",
       "      <th>0</th>\n",
       "      <td>5844400</td>\n",
       "      <td>5842500</td>\n",
       "      <td>-4200.0</td>\n",
       "      <td>-0.012457</td>\n",
       "      <td>-0.021173</td>\n",
       "      <td>-0.139162</td>\n",
       "    </tr>\n",
       "    <tr>\n",
       "      <th>1970-01-01 17:34:25</th>\n",
       "      <th>0</th>\n",
       "      <td>5844000</td>\n",
       "      <td>5843000</td>\n",
       "      <td>50.0</td>\n",
       "      <td>0.006197</td>\n",
       "      <td>-0.012457</td>\n",
       "      <td>1.679038</td>\n",
       "    </tr>\n",
       "    <tr>\n",
       "      <th>1970-01-01 17:34:30</th>\n",
       "      <th>0</th>\n",
       "      <td>5846600</td>\n",
       "      <td>5843900</td>\n",
       "      <td>1750.0</td>\n",
       "      <td>0.006699</td>\n",
       "      <td>0.006197</td>\n",
       "      <td>0.455764</td>\n",
       "    </tr>\n",
       "    <tr>\n",
       "      <th>1970-01-01 17:34:35</th>\n",
       "      <th>0</th>\n",
       "      <td>5845100</td>\n",
       "      <td>5842600</td>\n",
       "      <td>-1400.0</td>\n",
       "      <td>-0.003861</td>\n",
       "      <td>0.006699</td>\n",
       "      <td>-0.949003</td>\n",
       "    </tr>\n",
       "    <tr>\n",
       "      <th>1970-01-01 17:34:40</th>\n",
       "      <th>0</th>\n",
       "      <td>5845200</td>\n",
       "      <td>5843400</td>\n",
       "      <td>450.0</td>\n",
       "      <td>0.000465</td>\n",
       "      <td>-0.003861</td>\n",
       "      <td>0.341561</td>\n",
       "    </tr>\n",
       "  </tbody>\n",
       "</table>\n",
       "</div>"
      ],
      "text/plain": [
       "                           ask      bid  mid_delta  order_imba  order_imba_1  \\\n",
       "ts                                                                             \n",
       "1970-01-01 17:33:55 0  5851800  5850200    -2200.0   -0.018234      0.000637   \n",
       "1970-01-01 17:34:00 0  5853200  5851200     1200.0   -0.007342     -0.018234   \n",
       "1970-01-01 17:34:05 0  5853100  5851100     -100.0    0.000960     -0.007342   \n",
       "1970-01-01 17:34:10 0  5850500  5849800    -1950.0   -0.004128      0.000960   \n",
       "1970-01-01 17:34:15 0  5848600  5846700    -2500.0   -0.021173     -0.004128   \n",
       "1970-01-01 17:34:20 0  5844400  5842500    -4200.0   -0.012457     -0.021173   \n",
       "1970-01-01 17:34:25 0  5844000  5843000       50.0    0.006197     -0.012457   \n",
       "1970-01-01 17:34:30 0  5846600  5843900     1750.0    0.006699      0.006197   \n",
       "1970-01-01 17:34:35 0  5845100  5842600    -1400.0   -0.003861      0.006699   \n",
       "1970-01-01 17:34:40 0  5845200  5843400      450.0    0.000465     -0.003861   \n",
       "\n",
       "                         signal  \n",
       "ts                               \n",
       "1970-01-01 17:33:55 0 -2.395226  \n",
       "1970-01-01 17:34:00 0  0.321510  \n",
       "1970-01-01 17:34:05 0  0.646290  \n",
       "1970-01-01 17:34:10 0 -0.587342  \n",
       "1970-01-01 17:34:15 0 -2.447385  \n",
       "1970-01-01 17:34:20 0 -0.139162  \n",
       "1970-01-01 17:34:25 0  1.679038  \n",
       "1970-01-01 17:34:30 0  0.455764  \n",
       "1970-01-01 17:34:35 0 -0.949003  \n",
       "1970-01-01 17:34:40 0  0.341561  "
      ]
     },
     "execution_count": 54,
     "metadata": {},
     "output_type": "execute_result"
    }
   ],
   "source": [
    "test_data.head(10)"
   ]
  },
  {
   "cell_type": "code",
   "execution_count": 55,
   "metadata": {},
   "outputs": [],
   "source": [
    "@jit\n",
    "def backtest(threshold=1.):\n",
    "    \n",
    "    pos, trade_price, trades, pnl = 0, 0., 0, []\n",
    "\n",
    "    for ts, row in test_data.iterrows():\n",
    "        ask, bid, mid_delta, _, _, signal = row\n",
    "\n",
    "        if signal > threshold:\n",
    "            if pos == 0: # initiate position. BUY TO OPEN\n",
    "                trade_price = ask # buy at ask.\n",
    "                trades += 1\n",
    "                pos = 1\n",
    "            elif pos == -1: # close out. BUY TO CLOSE\n",
    "                pos = 0\n",
    "                pnl.append( trade_price - ask )\n",
    "                trades += 1\n",
    "\n",
    "                pos = 1\n",
    "                trade_price = ask\n",
    "                trades += 1\n",
    "\n",
    "        elif signal < -threshold:\n",
    "            if pos == 0: # initiate position. SELL TO OPEN\n",
    "                trade_price = bid\n",
    "                pos = -1\n",
    "                trades += 1\n",
    "            elif pos == 1: # SELL TO CLOSE\n",
    "                pos = 0\n",
    "                pnl.append( bid - trade_price )\n",
    "                trades += 1\n",
    "\n",
    "                # reverse position, sell another one.\n",
    "                pos = -1\n",
    "                trade_price = bid\n",
    "                trades += 1\n",
    "                \n",
    "    return pnl, sum(pnl)"
   ]
  },
  {
   "cell_type": "code",
   "execution_count": 56,
   "metadata": {},
   "outputs": [],
   "source": [
    "per_trade_pnl, total_pnl = backtest(2.)"
   ]
  },
  {
   "cell_type": "code",
   "execution_count": 57,
   "metadata": {},
   "outputs": [
    {
     "name": "stdout",
     "output_type": "stream",
     "text": [
      "Per-trade pnl breakdown = [2000.0, 11700.0, -2000.0, -3100.0, -900.0, -2900.0, 3700.0]\n"
     ]
    }
   ],
   "source": [
    "print \"Per-trade pnl breakdown =\", per_trade_pnl"
   ]
  },
  {
   "cell_type": "code",
   "execution_count": 58,
   "metadata": {},
   "outputs": [
    {
     "name": "stdout",
     "output_type": "stream",
     "text": [
      "Total cumulative pnl = 8500.0\n"
     ]
    }
   ],
   "source": [
    "print \"Total cumulative pnl =\", total_pnl"
   ]
  },
  {
   "cell_type": "markdown",
   "metadata": {},
   "source": [
    "Unfortunately, we only have 500+ rows of test data (as show in the earlier boxes), so the strategy wasn't able to make that many trades. The lobster sample data is only roughly an hour's data. We should try and test out the strategy a larger data set to see how it performs."
   ]
  }
 ],
 "metadata": {
  "kernelspec": {
   "display_name": "Python 2",
   "language": "python",
   "name": "python2"
  },
  "language_info": {
   "codemirror_mode": {
    "name": "ipython",
    "version": 2
   },
   "file_extension": ".py",
   "mimetype": "text/x-python",
   "name": "python",
   "nbconvert_exporter": "python",
   "pygments_lexer": "ipython2",
   "version": "2.7.14"
  }
 },
 "nbformat": 4,
 "nbformat_minor": 2
}
